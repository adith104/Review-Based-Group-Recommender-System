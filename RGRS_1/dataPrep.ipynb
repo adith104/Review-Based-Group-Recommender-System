{
 "cells": [
  {
   "cell_type": "code",
   "execution_count": null,
   "metadata": {},
   "outputs": [
    {
     "ename": "",
     "evalue": "",
     "output_type": "error",
     "traceback": [
      "\u001b[1;31mRunning cells with 'batch60' requires the ipykernel package.\n",
      "\u001b[1;31mRun the following command to install 'ipykernel' into the Python environment. \n",
      "\u001b[1;31mCommand: 'conda install -n batch60 ipykernel --update-deps --force-reinstall'"
     ]
    }
   ],
   "source": [
    "import torch\n",
    "from torch.utils.data import DataLoader\n",
    "\n",
    "from utils.data_reader import get_train_dev_test_data, get_review_dict\n",
    "from utils.data_set import NarreDataset\n",
    "from utils.log_hepler import logger\n",
    "from utils.train_helper import load_model\n",
    "\n",
    "train_data, dev_data, test_data = get_train_dev_test_data()\n",
    "model = load_model(\"model/checkpoints/NarreModel_20230424112221.pt\")\n",
    "model.config.device = \"cuda:0\" if torch.cuda.is_available() else \"cpu\"\n",
    "model.to(model.config.device)\n",
    "loss = torch.nn.MSELoss()\n",
    "\n",
    "review_by_user, review_by_item = get_review_dict(\"test\")\n",
    "\n",
    "print (type (review_by_user))\n",
    "print (review_by_user)\n",
    "dataset = NarreDataset(test_data, review_by_user, review_by_item, model.config)\n",
    "data_iter = DataLoader(dataset, batch_size=model.config.batch_size, shuffle=True)"
   ]
  },
  {
   "cell_type": "code",
   "execution_count": null,
   "metadata": {},
   "outputs": [],
   "source": [
    "def eval_model(model, data_iter, loss):\n",
    "    model.eval()\n",
    "    model_name = model.__class__.__name__\n",
    "    config: BaseConfig = model.config\n",
    "    logger.debug(\"Evaluating %s...\" % model_name)\n",
    "\n",
    "    with torch.no_grad():\n",
    "        predicts = []\n",
    "        ratings = []\n",
    "        for batch_id, iter_i in enumerate(data_iter):\n",
    "            user_review, user_id, item_id_per_review, item_review, item_id, user_id_per_review, rating = iter_i\n",
    "\n",
    "            print (\"User review : \", type (user_review), user_review)\n",
    "            print (\"User ID : \", type (user_id), user_id)\n",
    "            print (\"Item ID per review : \", type (item_id_per_review), item_id_per_review)\n",
    "            print (\"Item review : \", type (item_review), item_review)\n",
    "            print (\"Item ID : \", type (item_id), item_id)\n",
    "            print (\"USer ID per review : \", type (user_id_per_review), user_id_per_review)\n",
    "            print (\"Rating : \", type (rating), rating)\n",
    "            \n",
    "            user_review = user_review.to(config.device)\n",
    "            user_id = user_id.to(config.device)\n",
    "            item_id_per_review = item_id_per_review.to(config.device)\n",
    "\n",
    "            item_review = item_review.to(config.device)\n",
    "            item_id = item_id.to(config.device)\n",
    "            user_id_per_review = user_id_per_review.to(config.device)\n",
    "\n",
    "            rating = rating.to(config.device)\n",
    "            \n",
    "            print (\"User review : \", type (user_review), user_review)\n",
    "            print (\"User ID : \", type (user_id), user_id)\n",
    "            print (\"Item ID per review : \", type (item_id_per_review), item_id_per_review)\n",
    "            print (\"Item review : \", type (item_review), item_review)\n",
    "            print (\"Item ID : \", type (item_id), item_id)\n",
    "            print (\"USer ID per review : \", type (user_id_per_review), user_id_per_review)\n",
    "            print (\"Rating : \", type (rating), rating)\n",
    "            \n",
    "            break\n",
    "\n",
    "            predict = model(user_review, user_id, item_id_per_review, item_review, item_id, user_id_per_review)\n",
    "            predicts.append(predict)\n",
    "            ratings.append(rating)\n",
    "\n",
    "        predicts = torch.cat(predicts)\n",
    "        ratings = torch.cat(ratings)\n",
    "        return loss(predicts, ratings).item()"
   ]
  },
  {
   "cell_type": "code",
   "execution_count": null,
   "metadata": {},
   "outputs": [],
   "source": [
    "logger.info(f\"Loss on test dataset: {eval_model(model, data_iter, loss)}\")"
   ]
  }
 ],
 "metadata": {
  "kernelspec": {
   "display_name": "batch60",
   "language": "python",
   "name": "python3"
  },
  "language_info": {
   "name": "python",
   "version": "3.6.13"
  },
  "orig_nbformat": 4
 },
 "nbformat": 4,
 "nbformat_minor": 2
}
